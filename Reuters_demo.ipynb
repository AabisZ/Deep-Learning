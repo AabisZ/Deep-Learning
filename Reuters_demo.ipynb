{
  "nbformat": 4,
  "nbformat_minor": 0,
  "metadata": {
    "colab": {
      "name": "Reuters-demo.ipynb",
      "provenance": [],
      "collapsed_sections": [],
      "authorship_tag": "ABX9TyNg2t8JR687YBkdZ5ECBJZ8",
      "include_colab_link": true
    },
    "kernelspec": {
      "name": "python3",
      "display_name": "Python 3"
    },
    "language_info": {
      "name": "python"
    }
  },
  "cells": [
    {
      "cell_type": "markdown",
      "metadata": {
        "id": "view-in-github",
        "colab_type": "text"
      },
      "source": [
        "<a href=\"https://colab.research.google.com/github/AabisZ/Deep-Learning/blob/main/Reuters_demo.ipynb\" target=\"_parent\"><img src=\"https://colab.research.google.com/assets/colab-badge.svg\" alt=\"Open In Colab\"/></a>"
      ]
    },
    {
      "cell_type": "code",
      "metadata": {
        "colab": {
          "base_uri": "https://localhost:8080/"
        },
        "id": "yyl4GvkzCQ-U",
        "outputId": "b3170dc6-b0a2-46a7-d1ca-6108a1d2b168"
      },
      "source": [
        "!pip install tensorflow --upgrade"
      ],
      "execution_count": 1,
      "outputs": [
        {
          "output_type": "stream",
          "name": "stdout",
          "text": [
            "Requirement already satisfied: tensorflow in /usr/local/lib/python3.7/dist-packages (2.6.0)\n",
            "Requirement already satisfied: flatbuffers~=1.12.0 in /usr/local/lib/python3.7/dist-packages (from tensorflow) (1.12)\n",
            "Requirement already satisfied: astunparse~=1.6.3 in /usr/local/lib/python3.7/dist-packages (from tensorflow) (1.6.3)\n",
            "Requirement already satisfied: clang~=5.0 in /usr/local/lib/python3.7/dist-packages (from tensorflow) (5.0)\n",
            "Requirement already satisfied: gast==0.4.0 in /usr/local/lib/python3.7/dist-packages (from tensorflow) (0.4.0)\n",
            "Requirement already satisfied: tensorflow-estimator~=2.6 in /usr/local/lib/python3.7/dist-packages (from tensorflow) (2.6.0)\n",
            "Requirement already satisfied: typing-extensions~=3.7.4 in /usr/local/lib/python3.7/dist-packages (from tensorflow) (3.7.4.3)\n",
            "Requirement already satisfied: tensorboard~=2.6 in /usr/local/lib/python3.7/dist-packages (from tensorflow) (2.6.0)\n",
            "Requirement already satisfied: termcolor~=1.1.0 in /usr/local/lib/python3.7/dist-packages (from tensorflow) (1.1.0)\n",
            "Requirement already satisfied: six~=1.15.0 in /usr/local/lib/python3.7/dist-packages (from tensorflow) (1.15.0)\n",
            "Requirement already satisfied: opt-einsum~=3.3.0 in /usr/local/lib/python3.7/dist-packages (from tensorflow) (3.3.0)\n",
            "Requirement already satisfied: google-pasta~=0.2 in /usr/local/lib/python3.7/dist-packages (from tensorflow) (0.2.0)\n",
            "Requirement already satisfied: numpy~=1.19.2 in /usr/local/lib/python3.7/dist-packages (from tensorflow) (1.19.5)\n",
            "Requirement already satisfied: h5py~=3.1.0 in /usr/local/lib/python3.7/dist-packages (from tensorflow) (3.1.0)\n",
            "Requirement already satisfied: wheel~=0.35 in /usr/local/lib/python3.7/dist-packages (from tensorflow) (0.37.0)\n",
            "Requirement already satisfied: grpcio<2.0,>=1.37.0 in /usr/local/lib/python3.7/dist-packages (from tensorflow) (1.40.0)\n",
            "Requirement already satisfied: keras-preprocessing~=1.1.2 in /usr/local/lib/python3.7/dist-packages (from tensorflow) (1.1.2)\n",
            "Requirement already satisfied: absl-py~=0.10 in /usr/local/lib/python3.7/dist-packages (from tensorflow) (0.12.0)\n",
            "Requirement already satisfied: protobuf>=3.9.2 in /usr/local/lib/python3.7/dist-packages (from tensorflow) (3.17.3)\n",
            "Requirement already satisfied: keras~=2.6 in /usr/local/lib/python3.7/dist-packages (from tensorflow) (2.6.0)\n",
            "Requirement already satisfied: wrapt~=1.12.1 in /usr/local/lib/python3.7/dist-packages (from tensorflow) (1.12.1)\n",
            "Requirement already satisfied: cached-property in /usr/local/lib/python3.7/dist-packages (from h5py~=3.1.0->tensorflow) (1.5.2)\n",
            "Requirement already satisfied: tensorboard-plugin-wit>=1.6.0 in /usr/local/lib/python3.7/dist-packages (from tensorboard~=2.6->tensorflow) (1.8.0)\n",
            "Requirement already satisfied: google-auth-oauthlib<0.5,>=0.4.1 in /usr/local/lib/python3.7/dist-packages (from tensorboard~=2.6->tensorflow) (0.4.6)\n",
            "Requirement already satisfied: tensorboard-data-server<0.7.0,>=0.6.0 in /usr/local/lib/python3.7/dist-packages (from tensorboard~=2.6->tensorflow) (0.6.1)\n",
            "Requirement already satisfied: google-auth<2,>=1.6.3 in /usr/local/lib/python3.7/dist-packages (from tensorboard~=2.6->tensorflow) (1.35.0)\n",
            "Requirement already satisfied: setuptools>=41.0.0 in /usr/local/lib/python3.7/dist-packages (from tensorboard~=2.6->tensorflow) (57.4.0)\n",
            "Requirement already satisfied: requests<3,>=2.21.0 in /usr/local/lib/python3.7/dist-packages (from tensorboard~=2.6->tensorflow) (2.23.0)\n",
            "Requirement already satisfied: markdown>=2.6.8 in /usr/local/lib/python3.7/dist-packages (from tensorboard~=2.6->tensorflow) (3.3.4)\n",
            "Requirement already satisfied: werkzeug>=0.11.15 in /usr/local/lib/python3.7/dist-packages (from tensorboard~=2.6->tensorflow) (1.0.1)\n",
            "Requirement already satisfied: rsa<5,>=3.1.4 in /usr/local/lib/python3.7/dist-packages (from google-auth<2,>=1.6.3->tensorboard~=2.6->tensorflow) (4.7.2)\n",
            "Requirement already satisfied: pyasn1-modules>=0.2.1 in /usr/local/lib/python3.7/dist-packages (from google-auth<2,>=1.6.3->tensorboard~=2.6->tensorflow) (0.2.8)\n",
            "Requirement already satisfied: cachetools<5.0,>=2.0.0 in /usr/local/lib/python3.7/dist-packages (from google-auth<2,>=1.6.3->tensorboard~=2.6->tensorflow) (4.2.2)\n",
            "Requirement already satisfied: requests-oauthlib>=0.7.0 in /usr/local/lib/python3.7/dist-packages (from google-auth-oauthlib<0.5,>=0.4.1->tensorboard~=2.6->tensorflow) (1.3.0)\n",
            "Requirement already satisfied: importlib-metadata in /usr/local/lib/python3.7/dist-packages (from markdown>=2.6.8->tensorboard~=2.6->tensorflow) (4.8.1)\n",
            "Requirement already satisfied: pyasn1<0.5.0,>=0.4.6 in /usr/local/lib/python3.7/dist-packages (from pyasn1-modules>=0.2.1->google-auth<2,>=1.6.3->tensorboard~=2.6->tensorflow) (0.4.8)\n",
            "Requirement already satisfied: urllib3!=1.25.0,!=1.25.1,<1.26,>=1.21.1 in /usr/local/lib/python3.7/dist-packages (from requests<3,>=2.21.0->tensorboard~=2.6->tensorflow) (1.24.3)\n",
            "Requirement already satisfied: certifi>=2017.4.17 in /usr/local/lib/python3.7/dist-packages (from requests<3,>=2.21.0->tensorboard~=2.6->tensorflow) (2021.5.30)\n",
            "Requirement already satisfied: chardet<4,>=3.0.2 in /usr/local/lib/python3.7/dist-packages (from requests<3,>=2.21.0->tensorboard~=2.6->tensorflow) (3.0.4)\n",
            "Requirement already satisfied: idna<3,>=2.5 in /usr/local/lib/python3.7/dist-packages (from requests<3,>=2.21.0->tensorboard~=2.6->tensorflow) (2.10)\n",
            "Requirement already satisfied: oauthlib>=3.0.0 in /usr/local/lib/python3.7/dist-packages (from requests-oauthlib>=0.7.0->google-auth-oauthlib<0.5,>=0.4.1->tensorboard~=2.6->tensorflow) (3.1.1)\n",
            "Requirement already satisfied: zipp>=0.5 in /usr/local/lib/python3.7/dist-packages (from importlib-metadata->markdown>=2.6.8->tensorboard~=2.6->tensorflow) (3.5.0)\n"
          ]
        }
      ]
    },
    {
      "cell_type": "code",
      "metadata": {
        "id": "sWCzyNZECW7l"
      },
      "source": [
        "import tensorflow as tf\n",
        "from tensorflow.keras.datasets import reuters\n",
        "from tensorflow.keras import models,layers,optimizers,utils\n",
        "import numpy as np\n",
        "import matplotlib.pyplot as plt\n"
      ],
      "execution_count": 2,
      "outputs": []
    },
    {
      "cell_type": "markdown",
      "metadata": {
        "id": "kPoXHCHuEV-L"
      },
      "source": [
        "# Multi class classification model \n",
        "means more than one class like in MNISt fashtion dataset"
      ]
    },
    {
      "cell_type": "markdown",
      "metadata": {
        "id": "j-OyPLzwIDE8"
      },
      "source": [
        "Loading dataset"
      ]
    },
    {
      "cell_type": "code",
      "metadata": {
        "colab": {
          "base_uri": "https://localhost:8080/"
        },
        "id": "l42sL9ojEVjy",
        "outputId": "6fb176e9-02b4-4932-c04c-cc643b98cab6"
      },
      "source": [
        "(train_data,train_labels),(test_data,test_labels)=reuters.load_data(num_words=10000)"
      ],
      "execution_count": 3,
      "outputs": [
        {
          "output_type": "stream",
          "name": "stdout",
          "text": [
            "Downloading data from https://storage.googleapis.com/tensorflow/tf-keras-datasets/reuters.npz\n",
            "2113536/2110848 [==============================] - 0s 0us/step\n",
            "2121728/2110848 [==============================] - 0s 0us/step\n"
          ]
        }
      ]
    },
    {
      "cell_type": "code",
      "metadata": {
        "colab": {
          "base_uri": "https://localhost:8080/"
        },
        "id": "LnKxyssdCy5c",
        "outputId": "047e180a-ebb3-46be-f548-c982917b2971"
      },
      "source": [
        "print(len(train_data))\n",
        "print(len(test_data))"
      ],
      "execution_count": 4,
      "outputs": [
        {
          "output_type": "stream",
          "name": "stdout",
          "text": [
            "8982\n",
            "2246\n"
          ]
        }
      ]
    },
    {
      "cell_type": "code",
      "metadata": {
        "colab": {
          "base_uri": "https://localhost:8080/"
        },
        "id": "EaatIoqWIOpx",
        "outputId": "a2a0f169-d11f-45bd-e549-87057fd6f5e7"
      },
      "source": [
        "train_data[0]"
      ],
      "execution_count": 5,
      "outputs": [
        {
          "output_type": "execute_result",
          "data": {
            "text/plain": [
              "[1,\n",
              " 2,\n",
              " 2,\n",
              " 8,\n",
              " 43,\n",
              " 10,\n",
              " 447,\n",
              " 5,\n",
              " 25,\n",
              " 207,\n",
              " 270,\n",
              " 5,\n",
              " 3095,\n",
              " 111,\n",
              " 16,\n",
              " 369,\n",
              " 186,\n",
              " 90,\n",
              " 67,\n",
              " 7,\n",
              " 89,\n",
              " 5,\n",
              " 19,\n",
              " 102,\n",
              " 6,\n",
              " 19,\n",
              " 124,\n",
              " 15,\n",
              " 90,\n",
              " 67,\n",
              " 84,\n",
              " 22,\n",
              " 482,\n",
              " 26,\n",
              " 7,\n",
              " 48,\n",
              " 4,\n",
              " 49,\n",
              " 8,\n",
              " 864,\n",
              " 39,\n",
              " 209,\n",
              " 154,\n",
              " 6,\n",
              " 151,\n",
              " 6,\n",
              " 83,\n",
              " 11,\n",
              " 15,\n",
              " 22,\n",
              " 155,\n",
              " 11,\n",
              " 15,\n",
              " 7,\n",
              " 48,\n",
              " 9,\n",
              " 4579,\n",
              " 1005,\n",
              " 504,\n",
              " 6,\n",
              " 258,\n",
              " 6,\n",
              " 272,\n",
              " 11,\n",
              " 15,\n",
              " 22,\n",
              " 134,\n",
              " 44,\n",
              " 11,\n",
              " 15,\n",
              " 16,\n",
              " 8,\n",
              " 197,\n",
              " 1245,\n",
              " 90,\n",
              " 67,\n",
              " 52,\n",
              " 29,\n",
              " 209,\n",
              " 30,\n",
              " 32,\n",
              " 132,\n",
              " 6,\n",
              " 109,\n",
              " 15,\n",
              " 17,\n",
              " 12]"
            ]
          },
          "metadata": {},
          "execution_count": 5
        }
      ]
    },
    {
      "cell_type": "markdown",
      "metadata": {
        "id": "v4adOMmfIdkJ"
      },
      "source": [
        "Preparing data"
      ]
    },
    {
      "cell_type": "code",
      "metadata": {
        "id": "H9tTjBfrIb2b"
      },
      "source": [
        "def vectorize_sequences(sequences,dimension=10000):\n",
        "  results=np.zeros((len(sequences),dimension))\n",
        "  for i, sequence in enumerate(sequences):\n",
        "    results[i,sequence]=1.\n",
        "  return results"
      ],
      "execution_count": 12,
      "outputs": []
    },
    {
      "cell_type": "code",
      "metadata": {
        "id": "FU9gUGxmJFZp"
      },
      "source": [
        "x_train=vectorize_sequences(train_data)\n",
        "x_test=vectorize_sequences(test_data)"
      ],
      "execution_count": 9,
      "outputs": []
    },
    {
      "cell_type": "code",
      "metadata": {
        "id": "goU1kmUkJhu1"
      },
      "source": [
        "def to_one_hot(labels,dimension=46):\n",
        "  results=np.zeros((len(labels),dimension))\n",
        "  for i ,label in enumerate(labels):\n",
        "    results[i,label]= 1.\n",
        "  return results"
      ],
      "execution_count": 13,
      "outputs": []
    },
    {
      "cell_type": "code",
      "metadata": {
        "id": "4HfHAJjSKasd"
      },
      "source": [
        "one_hot_train_labels=to_one_hot(train_labels)\n",
        "one_hot_test_labels=to_one_hot(test_labels)\n"
      ],
      "execution_count": 14,
      "outputs": []
    },
    {
      "cell_type": "markdown",
      "metadata": {
        "id": "IL8r260fLOYa"
      },
      "source": [
        "# OR \n",
        "we can do the above one hot by a builtin function instead of writing the function by ourself"
      ]
    },
    {
      "cell_type": "code",
      "metadata": {
        "id": "5bGkJbn-LLLO"
      },
      "source": [
        "one_hot_train_labels=utils.to_categorical(train_labels)\n",
        "one_hot_test_labels=utils.to_categorical(test_labels)"
      ],
      "execution_count": 15,
      "outputs": []
    },
    {
      "cell_type": "markdown",
      "metadata": {
        "id": "cTEqqRp7LydS"
      },
      "source": [
        "Now applying cross validation"
      ]
    },
    {
      "cell_type": "code",
      "metadata": {
        "id": "3dF8Z5l-LvPl"
      },
      "source": [
        "x_val=x_train[:1000]\n",
        "partial_x_train=x_train[1000:]\n",
        "y_val=one_hot_train_labels[:1000]\n",
        "partial_y_train=one_hot_train_labels[1000:]"
      ],
      "execution_count": 16,
      "outputs": []
    },
    {
      "cell_type": "code",
      "metadata": {
        "id": "4hbofp9hMPqe"
      },
      "source": [
        "# building network"
      ],
      "execution_count": 17,
      "outputs": []
    },
    {
      "cell_type": "code",
      "metadata": {
        "id": "rloQpaXmMUQ9"
      },
      "source": [
        "model =models.Sequential()\n",
        "model.add(layers.Dense(64,activation='relu', input_shape= (10000,)))\n",
        "model.add(layers.Dense(64,activation='relu'))\n",
        "model.add(layers.Dense(46,activation='softmax'))\n",
        "#first nd second layer output is 64\n",
        "#last layer out is 46 because the classes are 46 in MNIST dataset the classes were 10"
      ],
      "execution_count": 21,
      "outputs": []
    },
    {
      "cell_type": "markdown",
      "metadata": {
        "id": "skWV3ECwOVp0"
      },
      "source": [
        "# compile the model"
      ]
    },
    {
      "cell_type": "markdown",
      "metadata": {
        "id": "8f7jnvvZOqA1"
      },
      "source": [
        "loss='categorical_crossentropy' loss func is used for multi class classifctaion\n",
        "when there are 2 classes i.e binary classes then we use binary_crossentropy"
      ]
    },
    {
      "cell_type": "code",
      "metadata": {
        "colab": {
          "base_uri": "https://localhost:8080/"
        },
        "id": "3TQ65oEDNe8r",
        "outputId": "8e32cb47-eaee-4808-e22f-99c7eef62385"
      },
      "source": [
        "model.compile(optimizer='rmsprop',loss='categorical_crossentropy',metrics=['acc'])\n",
        "history=model.fit(partial_x_train,\n",
        "                  partial_y_train,epochs=20,\n",
        "                  batch_size=512,\n",
        "                  validation_data=(x_val,y_val))"
      ],
      "execution_count": 22,
      "outputs": [
        {
          "output_type": "stream",
          "name": "stdout",
          "text": [
            "Epoch 1/20\n",
            "16/16 [==============================] - 2s 76ms/step - loss: 2.7543 - acc: 0.5234 - val_loss: 1.7840 - val_acc: 0.6590\n",
            "Epoch 2/20\n",
            "16/16 [==============================] - 1s 49ms/step - loss: 1.4143 - acc: 0.7172 - val_loss: 1.2794 - val_acc: 0.7230\n",
            "Epoch 3/20\n",
            "16/16 [==============================] - 1s 49ms/step - loss: 1.0079 - acc: 0.7937 - val_loss: 1.1235 - val_acc: 0.7590\n",
            "Epoch 4/20\n",
            "16/16 [==============================] - 1s 50ms/step - loss: 0.7907 - acc: 0.8356 - val_loss: 1.0351 - val_acc: 0.7770\n",
            "Epoch 5/20\n",
            "16/16 [==============================] - 1s 48ms/step - loss: 0.6280 - acc: 0.8708 - val_loss: 0.9785 - val_acc: 0.7930\n",
            "Epoch 6/20\n",
            "16/16 [==============================] - 1s 50ms/step - loss: 0.5002 - acc: 0.8995 - val_loss: 0.9501 - val_acc: 0.7990\n",
            "Epoch 7/20\n",
            "16/16 [==============================] - 1s 48ms/step - loss: 0.4099 - acc: 0.9154 - val_loss: 0.8998 - val_acc: 0.8130\n",
            "Epoch 8/20\n",
            "16/16 [==============================] - 1s 51ms/step - loss: 0.3314 - acc: 0.9291 - val_loss: 0.9248 - val_acc: 0.8070\n",
            "Epoch 9/20\n",
            "16/16 [==============================] - 1s 50ms/step - loss: 0.2788 - acc: 0.9372 - val_loss: 0.8975 - val_acc: 0.8260\n",
            "Epoch 10/20\n",
            "16/16 [==============================] - 1s 50ms/step - loss: 0.2332 - acc: 0.9439 - val_loss: 0.9068 - val_acc: 0.8240\n",
            "Epoch 11/20\n",
            "16/16 [==============================] - 1s 49ms/step - loss: 0.2044 - acc: 0.9490 - val_loss: 0.9216 - val_acc: 0.8210\n",
            "Epoch 12/20\n",
            "16/16 [==============================] - 1s 48ms/step - loss: 0.1838 - acc: 0.9521 - val_loss: 1.0122 - val_acc: 0.8060\n",
            "Epoch 13/20\n",
            "16/16 [==============================] - 1s 50ms/step - loss: 0.1620 - acc: 0.9534 - val_loss: 0.9985 - val_acc: 0.8130\n",
            "Epoch 14/20\n",
            "16/16 [==============================] - 1s 49ms/step - loss: 0.1506 - acc: 0.9550 - val_loss: 0.9974 - val_acc: 0.8090\n",
            "Epoch 15/20\n",
            "16/16 [==============================] - 1s 50ms/step - loss: 0.1356 - acc: 0.9572 - val_loss: 1.0868 - val_acc: 0.8000\n",
            "Epoch 16/20\n",
            "16/16 [==============================] - 1s 48ms/step - loss: 0.1326 - acc: 0.9570 - val_loss: 1.0415 - val_acc: 0.8060\n",
            "Epoch 17/20\n",
            "16/16 [==============================] - 1s 48ms/step - loss: 0.1243 - acc: 0.9569 - val_loss: 1.0457 - val_acc: 0.8230\n",
            "Epoch 18/20\n",
            "16/16 [==============================] - 1s 48ms/step - loss: 0.1168 - acc: 0.9575 - val_loss: 1.0936 - val_acc: 0.8060\n",
            "Epoch 19/20\n",
            "16/16 [==============================] - 1s 48ms/step - loss: 0.1208 - acc: 0.9568 - val_loss: 1.0745 - val_acc: 0.8160\n",
            "Epoch 20/20\n",
            "16/16 [==============================] - 1s 49ms/step - loss: 0.1125 - acc: 0.9579 - val_loss: 1.1372 - val_acc: 0.7950\n"
          ]
        }
      ]
    },
    {
      "cell_type": "markdown",
      "metadata": {
        "id": "4E7nFAaSP4DY"
      },
      "source": [
        "accuracy 95 % and 80% acc on unseen data"
      ]
    },
    {
      "cell_type": "code",
      "metadata": {
        "id": "sbIiQrhPPxB0"
      },
      "source": [
        ""
      ],
      "execution_count": 22,
      "outputs": []
    },
    {
      "cell_type": "markdown",
      "metadata": {
        "id": "jnb7tPB3Rz7w"
      },
      "source": [
        "# Visl Loss"
      ]
    },
    {
      "cell_type": "code",
      "metadata": {
        "colab": {
          "base_uri": "https://localhost:8080/",
          "height": 295
        },
        "id": "i4SI7TtIQF3o",
        "outputId": "cd8b45d2-cf40-418d-83fe-d393b399d355"
      },
      "source": [
        "history_dict=history.history\n",
        "loss_values=history_dict['loss']\n",
        "val_loss_values=history_dict['val_loss']\n",
        "epochs=range(1,len(loss_values) + 1)\n",
        "plt.plot(epochs,loss_values,'bo',label='Training loss')\n",
        "plt.plot(epochs,val_loss_values,'b',label='validation loss')\n",
        "plt.title('Training and validation loss')\n",
        "plt.xlabel('Epochs')\n",
        "plt.ylabel('Loss')\n",
        "plt.legend()\n",
        "plt.show()"
      ],
      "execution_count": 24,
      "outputs": [
        {
          "output_type": "display_data",
          "data": {
            "image/png": "[encoded data removed]",
            "text/plain": [
              "<Figure size 432x288 with 1 Axes>"
            ]
          },
          "metadata": {
            "needs_background": "light"
          }
        }
      ]
    },
    {
      "cell_type": "markdown",
      "metadata": {
        "id": "2suPwiRUSG0B"
      },
      "source": [
        "# visl accuracy"
      ]
    },
    {
      "cell_type": "code",
      "metadata": {
        "colab": {
          "base_uri": "https://localhost:8080/",
          "height": 295
        },
        "id": "U-ZBlx9mQ_TP",
        "outputId": "95bb9c16-7205-4bee-e8c4-e0e357225dee"
      },
      "source": [
        "plt.clf()\n",
        "acc_values=history_dict['acc']\n",
        "val_acc_values=history_dict['val_acc']\n",
        "epochs=range(1,len(acc_values) + 1)\n",
        "plt.plot(epochs,acc_values,'bo',label='Training acc')\n",
        "plt.plot(epochs,val_acc_values,'b',label='validation acc')\n",
        "plt.title('Training and validation acc')\n",
        "plt.xlabel('Epochs')\n",
        "plt.ylabel('acc')\n",
        "plt.legend()\n",
        "plt.show()"
      ],
      "execution_count": 26,
      "outputs": [
        {
          "output_type": "display_data",
          "data": {
            "image/png": "[encoded data removed]",
            "text/plain": [
              "<Figure size 432x288 with 1 Axes>"
            ]
          },
          "metadata": {
            "needs_background": "light"
          }
        }
      ]
    },
    {
      "cell_type": "code",
      "metadata": {
        "id": "U7Z3jzaXS4WG"
      },
      "source": [
        "predictions=model.predict(x_test)"
      ],
      "execution_count": 27,
      "outputs": []
    },
    {
      "cell_type": "code",
      "metadata": {
        "colab": {
          "base_uri": "https://localhost:8080/"
        },
        "id": "wRm5rTWWS9kh",
        "outputId": "e84f5481-7f4d-4de6-d473-c08dd06f0238"
      },
      "source": [
        "predictions.shape"
      ],
      "execution_count": 29,
      "outputs": [
        {
          "output_type": "execute_result",
          "data": {
            "text/plain": [
              "(2246, 46)"
            ]
          },
          "metadata": {},
          "execution_count": 29
        }
      ]
    },
    {
      "cell_type": "code",
      "metadata": {
        "colab": {
          "base_uri": "https://localhost:8080/"
        },
        "id": "rGGT2QU6TBI5",
        "outputId": "fac51d3e-5779-4eba-baea-f7b7a5544cf1"
      },
      "source": [
        "predictions[1].sum()"
      ],
      "execution_count": 30,
      "outputs": [
        {
          "output_type": "execute_result",
          "data": {
            "text/plain": [
              "1.0000001"
            ]
          },
          "metadata": {},
          "execution_count": 30
        }
      ]
    },
    {
      "cell_type": "code",
      "metadata": {
        "colab": {
          "base_uri": "https://localhost:8080/"
        },
        "id": "EY5AE54DTH93",
        "outputId": "d7ef6dc9-b9fb-41c6-8991-a0678df9a5e6"
      },
      "source": [
        "predictions"
      ],
      "execution_count": 31,
      "outputs": [
        {
          "output_type": "execute_result",
          "data": {
            "text/plain": [
              "array([[1.0759234e-06, 6.0822931e-06, 1.2107030e-08, ..., 3.4064826e-08,\n",
              "        4.7339066e-09, 4.0447816e-08],\n",
              "       [1.8379308e-03, 1.5791119e-03, 4.6123398e-05, ..., 3.3233889e-07,\n",
              "        6.9850435e-13, 3.9767624e-06],\n",
              "       [6.7211203e-02, 6.9360787e-01, 2.9432711e-03, ..., 5.8786289e-05,\n",
              "        1.2109061e-04, 1.9932080e-03],\n",
              "       ...,\n",
              "       [8.2052600e-07, 1.7864371e-05, 2.1264920e-07, ..., 9.1011536e-08,\n",
              "        3.2091103e-07, 2.3084979e-06],\n",
              "       [1.1325072e-03, 2.0689540e-02, 2.2889038e-03, ..., 1.9542756e-03,\n",
              "        3.2684209e-06, 3.2804690e-03],\n",
              "       [4.7652852e-03, 6.5098363e-01, 8.0167822e-04, ..., 9.9381205e-06,\n",
              "        5.5334891e-07, 4.6022786e-04]], dtype=float32)"
            ]
          },
          "metadata": {},
          "execution_count": 31
        }
      ]
    },
    {
      "cell_type": "code",
      "metadata": {
        "colab": {
          "base_uri": "https://localhost:8080/"
        },
        "id": "hv99CC0pTON5",
        "outputId": "1b65d58e-1bbe-4a7a-faff-ee0c1eda7a0b"
      },
      "source": [
        "predictions[0].argmax() #numpy func returns largest val"
      ],
      "execution_count": 34,
      "outputs": [
        {
          "output_type": "execute_result",
          "data": {
            "text/plain": [
              "3"
            ]
          },
          "metadata": {},
          "execution_count": 34
        }
      ]
    },
    {
      "cell_type": "code",
      "metadata": {
        "id": "IAHYxtkJTitP"
      },
      "source": [
        ""
      ],
      "execution_count": null,
      "outputs": []
    },
    {
      "cell_type": "markdown",
      "metadata": {
        "id": "Bm3B9roAT0Rt"
      },
      "source": [
        "# Alternate approach for labels instead of one hot encoding"
      ]
    },
    {
      "cell_type": "code",
      "metadata": {
        "id": "IQp7M6WmT550"
      },
      "source": [
        "y_train=np.array(train_labels)\n",
        "y_test=np.array(test_labels)"
      ],
      "execution_count": 35,
      "outputs": []
    },
    {
      "cell_type": "code",
      "metadata": {
        "colab": {
          "base_uri": "https://localhost:8080/"
        },
        "id": "WVj6VtBwUGvf",
        "outputId": "2bacff8d-b177-495b-d82e-0780d55d85e5"
      },
      "source": [
        "model.compile(optimizer='rmsprop',\n",
        "              loss='sparse_categorical_crossentropy',\n",
        "              metrics=['acc']\n",
        "              )\n",
        "history=model.fit(x_train,y_train,epochs=20,batch_size=512)"
      ],
      "execution_count": 36,
      "outputs": [
        {
          "output_type": "stream",
          "name": "stdout",
          "text": [
            "Epoch 1/20\n",
            "18/18 [==============================] - 1s 46ms/step - loss: 0.2402 - acc: 0.9387\n",
            "Epoch 2/20\n",
            "18/18 [==============================] - 1s 46ms/step - loss: 0.1653 - acc: 0.9483\n",
            "Epoch 3/20\n",
            "18/18 [==============================] - 1s 47ms/step - loss: 0.1435 - acc: 0.9503\n",
            "Epoch 4/20\n",
            "18/18 [==============================] - 1s 46ms/step - loss: 0.1305 - acc: 0.9545\n",
            "Epoch 5/20\n",
            "18/18 [==============================] - 1s 45ms/step - loss: 0.1234 - acc: 0.9548\n",
            "Epoch 6/20\n",
            "18/18 [==============================] - 1s 44ms/step - loss: 0.1203 - acc: 0.9535\n",
            "Epoch 7/20\n",
            "18/18 [==============================] - 1s 45ms/step - loss: 0.1152 - acc: 0.9568\n",
            "Epoch 8/20\n",
            "18/18 [==============================] - 1s 45ms/step - loss: 0.1130 - acc: 0.9546\n",
            "Epoch 9/20\n",
            "18/18 [==============================] - 1s 45ms/step - loss: 0.1089 - acc: 0.9556\n",
            "Epoch 10/20\n",
            "18/18 [==============================] - 1s 45ms/step - loss: 0.1099 - acc: 0.9548\n",
            "Epoch 11/20\n",
            "18/18 [==============================] - 1s 44ms/step - loss: 0.1071 - acc: 0.9565\n",
            "Epoch 12/20\n",
            "18/18 [==============================] - 1s 44ms/step - loss: 0.1018 - acc: 0.9572\n",
            "Epoch 13/20\n",
            "18/18 [==============================] - 1s 46ms/step - loss: 0.1039 - acc: 0.9554\n",
            "Epoch 14/20\n",
            "18/18 [==============================] - 1s 45ms/step - loss: 0.1029 - acc: 0.9549\n",
            "Epoch 15/20\n",
            "18/18 [==============================] - 1s 45ms/step - loss: 0.0986 - acc: 0.9571\n",
            "Epoch 16/20\n",
            "18/18 [==============================] - 1s 45ms/step - loss: 0.1019 - acc: 0.9558\n",
            "Epoch 17/20\n",
            "18/18 [==============================] - 1s 44ms/step - loss: 0.0937 - acc: 0.9568\n",
            "Epoch 18/20\n",
            "18/18 [==============================] - 1s 46ms/step - loss: 0.0977 - acc: 0.9552\n",
            "Epoch 19/20\n",
            "18/18 [==============================] - 1s 45ms/step - loss: 0.0963 - acc: 0.9572\n",
            "Epoch 20/20\n",
            "18/18 [==============================] - 1s 45ms/step - loss: 0.0976 - acc: 0.9576\n"
          ]
        }
      ]
    },
    {
      "cell_type": "code",
      "metadata": {
        "id": "mvaAJvzBUtm5"
      },
      "source": [
        "predictions=model.predict(x_test)"
      ],
      "execution_count": 37,
      "outputs": []
    },
    {
      "cell_type": "code",
      "metadata": {
        "colab": {
          "base_uri": "https://localhost:8080/"
        },
        "id": "Yy7gcIvSU0J3",
        "outputId": "72d7f4f8-9dd6-414c-b6f7-c4bd5b57ba5a"
      },
      "source": [
        "predictions.shape"
      ],
      "execution_count": 38,
      "outputs": [
        {
          "output_type": "execute_result",
          "data": {
            "text/plain": [
              "(2246, 46)"
            ]
          },
          "metadata": {},
          "execution_count": 38
        }
      ]
    },
    {
      "cell_type": "code",
      "metadata": {
        "colab": {
          "base_uri": "https://localhost:8080/"
        },
        "id": "NLwxOr-sU7A9",
        "outputId": "b3633d18-35e6-48a9-9b85-3ea0753244a9"
      },
      "source": [
        "predictions[0].sum()"
      ],
      "execution_count": 40,
      "outputs": [
        {
          "output_type": "execute_result",
          "data": {
            "text/plain": [
              "1.0"
            ]
          },
          "metadata": {},
          "execution_count": 40
        }
      ]
    },
    {
      "cell_type": "code",
      "metadata": {
        "id": "FgxNeS1EU-5y"
      },
      "source": [
        ""
      ],
      "execution_count": null,
      "outputs": []
    }
  ]
}